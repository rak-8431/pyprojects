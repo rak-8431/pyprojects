{
 "cells": [
  {
   "cell_type": "code",
   "execution_count": 22,
   "id": "0fea54bd-491c-4c52-a906-502ca2c85d87",
   "metadata": {},
   "outputs": [],
   "source": [
    "#define activation function\n",
    "#sigmoid function\n",
    "def sigmoid(x):\n",
    "    return 1/(1+np.exp(-x))"
   ]
  },
  {
   "cell_type": "code",
   "execution_count": 23,
   "id": "7f28fa17-88be-41ee-921a-0b5de5ae2ace",
   "metadata": {},
   "outputs": [],
   "source": [
    "import numpy as np"
   ]
  },
  {
   "cell_type": "code",
   "execution_count": 24,
   "id": "86e352ef-25c0-4f3c-a1c5-76b8bea9960d",
   "metadata": {},
   "outputs": [],
   "source": [
    "def sigmoid_derivatives(x):\n",
    "    return x*(1-x)"
   ]
  },
  {
   "cell_type": "code",
   "execution_count": 26,
   "id": "3ca49e2b-c9af-4ab7-81da-3686159ce1d3",
   "metadata": {},
   "outputs": [],
   "source": [
    "x=np.array([[0,0],\n",
    "            [0,1],\n",
    "            [1,0],\n",
    "            [1,1]])"
   ]
  },
  {
   "cell_type": "code",
   "execution_count": 27,
   "id": "b05664b4-e7cd-49bc-a46f-b6f25248e101",
   "metadata": {},
   "outputs": [],
   "source": [
    "y=np.array([[0],[1],[1],[0]])"
   ]
  },
  {
   "cell_type": "code",
   "execution_count": 28,
   "id": "8721f541-2877-486b-ba5e-a7faa9bd0217",
   "metadata": {},
   "outputs": [],
   "source": [
    "weights_input_hidden=np.random.rand(2,2)\n",
    "weights_hidden_output=np.random.rand(2,1)"
   ]
  },
  {
   "cell_type": "code",
   "execution_count": 29,
   "id": "52b5423c-e793-4252-ac39-191a346ccec6",
   "metadata": {},
   "outputs": [],
   "source": [
    "#bias\n",
    "bias_hidden=np.random.rand(1,2)\n",
    "bias_output=np.random.rand(1,1)"
   ]
  },
  {
   "cell_type": "code",
   "execution_count": 30,
   "id": "cc54306b-68a5-4539-86c8-3ee022f52b4f",
   "metadata": {},
   "outputs": [],
   "source": [
    "def feedforward(x):\n",
    "    hidden_layer_input=np.dot(x,weights_input_hidden)+bias_hidden\n",
    "    hidden_layer_output=sigmoid(hidden_layer_input)\n",
    "    output_layer_input=np.dot(hidden_layer_output,weights_hidden_output)+bias_output\n",
    "    output=sigmoid(output_layer_input)\n",
    "    return hidden_layer_output,output"
   ]
  },
  {
   "cell_type": "code",
   "execution_count": 19,
   "id": "cafe2d1c-f7f4-4968-9af9-2f26d33d9431",
   "metadata": {},
   "outputs": [
    {
     "ename": "NameError",
     "evalue": "name 'hidden_output' is not defined",
     "output_type": "error",
     "traceback": [
      "\u001b[1;31m---------------------------------------------------------------------------\u001b[0m",
      "\u001b[1;31mNameError\u001b[0m                                 Traceback (most recent call last)",
      "Cell \u001b[1;32mIn[19], line 1\u001b[0m\n\u001b[1;32m----> 1\u001b[0m \u001b[43mhidden_output\u001b[49m\u001b[38;5;241m.\u001b[39mpredicted_output\u001b[38;5;241m=\u001b[39mfeedforward(x)\n",
      "\u001b[1;31mNameError\u001b[0m: name 'hidden_output' is not defined"
     ]
    }
   ],
   "source": [
    "hidden_output.predicted_output=feedforward(x)"
   ]
  },
  {
   "cell_type": "code",
   "execution_count": null,
   "id": "3b87453c-4fe5-4c0c-8a57-1754be872fe4",
   "metadata": {},
   "outputs": [],
   "source": [
    "print(\"Predicted output:\",predicted_output)"
   ]
  },
  {
   "cell_type": "code",
   "execution_count": null,
   "id": "47aad561-328d-4ed3-846f-bf66011f5539",
   "metadata": {},
   "outputs": [],
   "source": [
    "learning_rate=0.1\n",
    "epochs=10000\n",
    "for epoch in range(epochs):\n",
    "    hidden_output,predicted_output=feedforward(x)\n",
    "    error=y-predicted_output\n",
    "    #backpropagation\n",
    "    d_output=error*sigmoid_derivative(predicted_output)\n",
    "    error_hidden_layer=d_output.dot(weights_hidden_output.T)\n",
    "    d_hidden_layer=error_hidden_layer*sigmoid_derivative(hidden_output)\n",
    "    #update the weights and biases\n",
    "    weights_hidden_output+=hidden_output.T.dot(d_output)*learning_rate\n",
    "    bias_output+=np.sum(d_output,axis=0)*learning_rate\n",
    "    weights_input_hidden+=x.T.dot(d_hidden_layer)*learning_rate\n",
    "    bias_hidden+=np.sum(d_hidden_layer,axis=0)*learning_rate \n"
   ]
  },
  {
   "cell_type": "code",
   "execution_count": null,
   "id": "3afcc340-1c95-4650-ba30-f705ca2973c3",
   "metadata": {},
   "outputs": [],
   "source": [
    "hidden_output,predicted_output=feedforward(x)\n",
    "print(\"predicted output:\",predicted_output)"
   ]
  }
 ],
 "metadata": {
  "kernelspec": {
   "display_name": "Python 3 (ipykernel)",
   "language": "python",
   "name": "python3"
  },
  "language_info": {
   "codemirror_mode": {
    "name": "ipython",
    "version": 3
   },
   "file_extension": ".py",
   "mimetype": "text/x-python",
   "name": "python",
   "nbconvert_exporter": "python",
   "pygments_lexer": "ipython3",
   "version": "3.12.4"
  }
 },
 "nbformat": 4,
 "nbformat_minor": 5
}
